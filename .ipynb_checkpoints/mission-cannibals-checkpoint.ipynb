{
 "metadata": {
  "name": "",
  "signature": "sha256:bdb53c2475958bc4632ef36c1ba015c30bfe6d8262675747f068b4aa130cf2db"
 },
 "nbformat": 3,
 "nbformat_minor": 0,
 "worksheets": []
}